{
 "cells": [
  {
   "cell_type": "markdown",
   "id": "dc2ca77c",
   "metadata": {},
   "source": [
    "# Data Curation for DAPT (Domain Adaptive Pre-Training)"
   ]
  },
  {
   "cell_type": "markdown",
   "id": "3555e678",
   "metadata": {},
   "source": [
    "## Learning Goals and Datasets\n",
    "\n",
    "This playbook aims to demonstrate how to curate data from various data sources to customize foundation models through domain-adaptive pre-training and improve performance on domain-specific tasks.\n",
    "\n",
    "In this playbook, we will leverage chip domain/hardware datasets from open-source GitHub repositories (`./sources/github_repos.jsonl`), wiki URLs (`./sources/wikipedia_urls.jsonl`), and academic papers(`./sources/arxiv_urls.jsonl`).\n",
    "\n",
    "This playbook utilizes specific tools and techniques. First, we convert all files to Txt format (if not already in Txt), compress files on disk, add metadata, and convert them to JSON (`./data/raw/`). Then, we leverage [NeMo Curator](https://github.com/NVIDIA/NeMo-Curator/tree/main) to mine high-quality text at scale from a massive code-generation corpus. [NeMo Curator](https://github.com/NVIDIA/NeMo-Curator/tree/main), built on Dask and RAPIDS, is instrumental in scaling data curation and providing GPU acceleration. We use its capabilities to extract text, identify code file types, fix unicode errors, filter quality through heuristics, deduplicate, and redact personal information. We finally also provide steps to blend and shuffle data sources for continued pre-training."
   ]
  },
  {
   "cell_type": "markdown",
   "id": "61cab9f1",
   "metadata": {},
   "source": [
    "## NeMo Tools and Resources\n",
    "\n",
    "* [NeMo-Curator GitHub repo](https://github.com/NVIDIA/NeMo-Curator/tree/main)"
   ]
  },
  {
   "cell_type": "markdown",
   "id": "1e927150",
   "metadata": {},
   "source": [
    "## Software Requirements\n",
    "* This playbook has been tested on: nvcr.io/nvidia/nemo:24.03.01.framework. It is expected to work similarly on other environments. Within the container, from the NeMo-Curator directory install using `pip install --extra-index-url https://pypi.nvidia.com \".[cuda12x]\"`\n",
    "* NeMo Curator currently requires Python 3.10 and the GPU accelerated modules require CUDA 12 or above installed in order to be used."
   ]
  },
  {
   "cell_type": "markdown",
   "id": "da1839da",
   "metadata": {},
   "source": [
    "## Hardware Requirements\n",
    "* This playbook can run on CPUs or GPUs. For GPUs, this playbook has been tested on minimum 1xA100 80G"
   ]
  },
  {
   "cell_type": "markdown",
   "id": "d888ac80",
   "metadata": {},
   "source": [
    "### Overview of steps involved: \n",
    "In this notebook, we will use the datasets in the `dapt-curation/code/data` folder to illustrate data curation through this pipeline. Specifically sample data collected in:\n",
    "* `./data/raw/github` (we clone github repos, extract text from each file and convert to jsonl)\n",
    "* `./data/raw/arxiv_pdfs` (we extract data from pdfs, convert to txt and store as jsonl files)\n",
    "* `./data/raw/wikipedia` (we extract data from htmls, parse, convert to txt and store as json files)\n",
    "\n",
    "The notebook follows the steps below:<br>\n",
    "- Step 1: Install requirements and import libraries<br>\n",
    "- Step 2: Download the data from online sources (Github repos, wiki urls, arxiv pdfs), extract metadata and convert to JSONL<br>\n",
    "- Step 3: Load the dataset <br>\n",
    "- Step 4: Examine the file types and sizes (optional) <br>\n",
    "- Step 5: Run the data curation pipeline with with Nemo Curator<br>\n",
    "    - File type identification and separation\n",
    "    - Document-level exact deduplication\n",
    "    - Heuristic-based quality filtering (Number of lines, worc count, top N-grams, etc.)\n",
    "    - Fix unicode errors via ftfy\n",
    "    - PII redaction\n",
    "- Step 6: Save the filtered and curated data <br>\n",
    "- Step 8: Blend datasets and shuffle"
   ]
  },
  {
   "cell_type": "markdown",
   "id": "a74b7f37",
   "metadata": {},
   "source": [
    "## Step 1: install the prerequisites and import the required modules"
   ]
  },
  {
   "cell_type": "code",
   "execution_count": 1,
   "id": "f874be0a",
   "metadata": {},
   "outputs": [
    {
     "name": "stdout",
     "output_type": "stream",
     "text": [
      "Looking in indexes: https://pypi.org/simple, https://pypi.ngc.nvidia.com\n",
      "Collecting arxiv (from -r requirements.txt (line 1))\n",
      "  Downloading arxiv-2.1.3-py3-none-any.whl.metadata (6.1 kB)\n",
      "Collecting arxiv-downloader (from -r requirements.txt (line 2))\n",
      "  Downloading arxiv_downloader-1.0.0-py3-none-any.whl.metadata (2.0 kB)\n",
      "Collecting cchardet (from -r requirements.txt (line 3))\n",
      "  Downloading cchardet-2.1.7.tar.gz (653 kB)\n",
      "\u001b[2K     \u001b[90m━━━━━━━━━━━━━━━━━━━━━━━━━━━━━━━━━━━━━━\u001b[0m \u001b[32m653.6/653.6 kB\u001b[0m \u001b[31m33.8 MB/s\u001b[0m eta \u001b[36m0:00:00\u001b[0m\n",
      "\u001b[?25h  Preparing metadata (setup.py) ... \u001b[?25ldone\n",
      "\u001b[?25hCollecting poppler-utils (from -r requirements.txt (line 4))\n",
      "  Downloading poppler_utils-0.1.0-py3-none-any.whl.metadata (883 bytes)\n",
      "Collecting unstructured==0.14.5 (from unstructured[all-docs]==0.14.5->-r requirements.txt (line 5))\n",
      "  Downloading unstructured-0.14.5-py3-none-any.whl.metadata (28 kB)\n",
      "Requirement already satisfied: chardet in /usr/local/lib/python3.10/dist-packages (from unstructured==0.14.5->unstructured[all-docs]==0.14.5->-r requirements.txt (line 5)) (5.2.0)\n",
      "Collecting filetype (from unstructured==0.14.5->unstructured[all-docs]==0.14.5->-r requirements.txt (line 5))\n",
      "  Downloading filetype-1.2.0-py2.py3-none-any.whl.metadata (6.5 kB)\n",
      "Requirement already satisfied: python-magic in /usr/local/lib/python3.10/dist-packages (from unstructured==0.14.5->unstructured[all-docs]==0.14.5->-r requirements.txt (line 5)) (0.4.24)\n",
      "Requirement already satisfied: lxml in /usr/local/lib/python3.10/dist-packages (from unstructured==0.14.5->unstructured[all-docs]==0.14.5->-r requirements.txt (line 5)) (5.2.1)\n",
      "Requirement already satisfied: nltk in /usr/local/lib/python3.10/dist-packages (from unstructured==0.14.5->unstructured[all-docs]==0.14.5->-r requirements.txt (line 5)) (3.8.1)\n",
      "Requirement already satisfied: tabulate in /usr/local/lib/python3.10/dist-packages (from unstructured==0.14.5->unstructured[all-docs]==0.14.5->-r requirements.txt (line 5)) (0.9.0)\n",
      "Requirement already satisfied: requests in /usr/local/lib/python3.10/dist-packages (from unstructured==0.14.5->unstructured[all-docs]==0.14.5->-r requirements.txt (line 5)) (2.31.0)\n",
      "Requirement already satisfied: beautifulsoup4 in /usr/local/lib/python3.10/dist-packages (from unstructured==0.14.5->unstructured[all-docs]==0.14.5->-r requirements.txt (line 5)) (4.12.3)\n",
      "Collecting emoji (from unstructured==0.14.5->unstructured[all-docs]==0.14.5->-r requirements.txt (line 5))\n",
      "  Downloading emoji-2.12.1-py3-none-any.whl.metadata (5.4 kB)\n",
      "Collecting dataclasses-json (from unstructured==0.14.5->unstructured[all-docs]==0.14.5->-r requirements.txt (line 5))\n",
      "  Downloading dataclasses_json-0.6.7-py3-none-any.whl.metadata (25 kB)\n",
      "Collecting python-iso639 (from unstructured==0.14.5->unstructured[all-docs]==0.14.5->-r requirements.txt (line 5))\n",
      "  Downloading python_iso639-2024.4.27-py3-none-any.whl.metadata (13 kB)\n",
      "Collecting langdetect (from unstructured==0.14.5->unstructured[all-docs]==0.14.5->-r requirements.txt (line 5))\n",
      "  Downloading langdetect-1.0.9.tar.gz (981 kB)\n",
      "\u001b[2K     \u001b[90m━━━━━━━━━━━━━━━━━━━━━━━━━━━━━━━━━━━━━\u001b[0m \u001b[32m981.5/981.5 kB\u001b[0m \u001b[31m137.8 MB/s\u001b[0m eta \u001b[36m0:00:00\u001b[0m\n",
      "\u001b[?25h  Preparing metadata (setup.py) ... \u001b[?25ldone\n",
      "\u001b[?25hRequirement already satisfied: numpy in /usr/local/lib/python3.10/dist-packages (from unstructured==0.14.5->unstructured[all-docs]==0.14.5->-r requirements.txt (line 5)) (1.24.4)\n",
      "Requirement already satisfied: rapidfuzz in /usr/local/lib/python3.10/dist-packages (from unstructured==0.14.5->unstructured[all-docs]==0.14.5->-r requirements.txt (line 5)) (3.8.1)\n",
      "Collecting backoff (from unstructured==0.14.5->unstructured[all-docs]==0.14.5->-r requirements.txt (line 5))\n",
      "  Downloading backoff-2.2.1-py3-none-any.whl.metadata (14 kB)\n",
      "Requirement already satisfied: typing-extensions in /usr/local/lib/python3.10/dist-packages (from unstructured==0.14.5->unstructured[all-docs]==0.14.5->-r requirements.txt (line 5)) (4.11.0)\n",
      "Collecting unstructured-client (from unstructured==0.14.5->unstructured[all-docs]==0.14.5->-r requirements.txt (line 5))\n",
      "  Downloading unstructured_client-0.24.0-py3-none-any.whl.metadata (12 kB)\n",
      "Requirement already satisfied: wrapt in /usr/local/lib/python3.10/dist-packages (from unstructured==0.14.5->unstructured[all-docs]==0.14.5->-r requirements.txt (line 5)) (1.16.0)\n",
      "Requirement already satisfied: pandas in /usr/local/lib/python3.10/dist-packages (from unstructured[all-docs]==0.14.5->-r requirements.txt (line 5)) (2.2.2)\n",
      "Collecting python-oxmsg (from unstructured[all-docs]==0.14.5->-r requirements.txt (line 5))\n",
      "  Downloading python_oxmsg-0.0.1-py3-none-any.whl.metadata (5.0 kB)\n",
      "Collecting pypandoc (from unstructured[all-docs]==0.14.5->-r requirements.txt (line 5))\n",
      "  Downloading pypandoc-1.13-py3-none-any.whl.metadata (16 kB)\n",
      "Requirement already satisfied: markdown in /usr/local/lib/python3.10/dist-packages (from unstructured[all-docs]==0.14.5->-r requirements.txt (line 5)) (3.5.2)\n",
      "Requirement already satisfied: networkx in /usr/local/lib/python3.10/dist-packages (from unstructured[all-docs]==0.14.5->-r requirements.txt (line 5)) (3.3)\n",
      "Collecting pikepdf (from unstructured[all-docs]==0.14.5->-r requirements.txt (line 5))\n",
      "  Downloading pikepdf-9.0.0-cp310-cp310-manylinux_2_17_x86_64.manylinux2014_x86_64.whl.metadata (8.5 kB)\n",
      "Collecting pdfminer.six (from unstructured[all-docs]==0.14.5->-r requirements.txt (line 5))\n",
      "  Downloading pdfminer.six-20240706-py3-none-any.whl.metadata (4.1 kB)\n",
      "Collecting pypdf (from unstructured[all-docs]==0.14.5->-r requirements.txt (line 5))\n",
      "  Downloading pypdf-4.2.0-py3-none-any.whl.metadata (7.4 kB)\n",
      "Collecting xlrd (from unstructured[all-docs]==0.14.5->-r requirements.txt (line 5))\n",
      "  Downloading xlrd-2.0.1-py2.py3-none-any.whl.metadata (3.4 kB)\n",
      "Requirement already satisfied: onnx in /usr/local/lib/python3.10/dist-packages (from unstructured[all-docs]==0.14.5->-r requirements.txt (line 5)) (1.15.0rc2)\n",
      "Collecting python-docx>=1.1.2 (from unstructured[all-docs]==0.14.5->-r requirements.txt (line 5))\n",
      "  Downloading python_docx-1.1.2-py3-none-any.whl.metadata (2.0 kB)\n",
      "Collecting pytesseract (from unstructured[all-docs]==0.14.5->-r requirements.txt (line 5))\n",
      "  Downloading pytesseract-0.3.10-py3-none-any.whl.metadata (11 kB)\n",
      "Collecting google-cloud-vision (from unstructured[all-docs]==0.14.5->-r requirements.txt (line 5))\n",
      "  Downloading google_cloud_vision-3.7.3-py2.py3-none-any.whl.metadata (5.2 kB)\n",
      "Collecting unstructured.pytesseract>=0.3.12 (from unstructured[all-docs]==0.14.5->-r requirements.txt (line 5))\n",
      "  Downloading unstructured.pytesseract-0.3.12-py3-none-any.whl.metadata (11 kB)\n",
      "Collecting openpyxl (from unstructured[all-docs]==0.14.5->-r requirements.txt (line 5))\n",
      "  Downloading openpyxl-3.1.5-py2.py3-none-any.whl.metadata (2.5 kB)\n",
      "Collecting effdet (from unstructured[all-docs]==0.14.5->-r requirements.txt (line 5))\n",
      "  Downloading effdet-0.4.1-py3-none-any.whl.metadata (33 kB)\n",
      "Collecting pdf2image (from unstructured[all-docs]==0.14.5->-r requirements.txt (line 5))\n",
      "  Downloading pdf2image-1.17.0-py3-none-any.whl.metadata (6.2 kB)\n",
      "Collecting python-pptx<=0.6.23 (from unstructured[all-docs]==0.14.5->-r requirements.txt (line 5))\n",
      "  Downloading python_pptx-0.6.23-py3-none-any.whl.metadata (18 kB)\n",
      "Collecting unstructured-inference==0.7.33 (from unstructured[all-docs]==0.14.5->-r requirements.txt (line 5))\n",
      "  Downloading unstructured_inference-0.7.33-py3-none-any.whl.metadata (5.9 kB)\n",
      "Collecting pillow-heif (from unstructured[all-docs]==0.14.5->-r requirements.txt (line 5))\n",
      "  Downloading pillow_heif-0.17.0-cp310-cp310-manylinux_2_17_x86_64.manylinux2014_x86_64.whl.metadata (9.9 kB)\n",
      "Collecting layoutparser (from unstructured-inference==0.7.33->unstructured[all-docs]==0.14.5->-r requirements.txt (line 5))\n",
      "  Downloading layoutparser-0.3.4-py3-none-any.whl.metadata (7.7 kB)\n",
      "Collecting python-multipart (from unstructured-inference==0.7.33->unstructured[all-docs]==0.14.5->-r requirements.txt (line 5))\n",
      "  Downloading python_multipart-0.0.9-py3-none-any.whl.metadata (2.5 kB)\n",
      "Requirement already satisfied: huggingface-hub in /usr/local/lib/python3.10/dist-packages (from unstructured-inference==0.7.33->unstructured[all-docs]==0.14.5->-r requirements.txt (line 5)) (0.22.2)\n"
     ]
    },
    {
     "name": "stdout",
     "output_type": "stream",
     "text": [
      "Collecting opencv-python!=4.7.0.68 (from unstructured-inference==0.7.33->unstructured[all-docs]==0.14.5->-r requirements.txt (line 5))\n",
      "  Downloading opencv_python-4.10.0.84-cp37-abi3-manylinux_2_17_x86_64.manylinux2014_x86_64.whl.metadata (20 kB)\n",
      "Collecting onnxruntime>=1.17.0 (from unstructured-inference==0.7.33->unstructured[all-docs]==0.14.5->-r requirements.txt (line 5))\n",
      "  Downloading onnxruntime-1.18.1-cp310-cp310-manylinux_2_27_x86_64.manylinux_2_28_x86_64.whl.metadata (4.3 kB)\n",
      "Requirement already satisfied: matplotlib in /usr/local/lib/python3.10/dist-packages (from unstructured-inference==0.7.33->unstructured[all-docs]==0.14.5->-r requirements.txt (line 5)) (3.8.2)\n",
      "Requirement already satisfied: torch in /usr/local/lib/python3.10/dist-packages (from unstructured-inference==0.7.33->unstructured[all-docs]==0.14.5->-r requirements.txt (line 5)) (2.3.0a0+ebedce2)\n",
      "Requirement already satisfied: timm in /usr/local/lib/python3.10/dist-packages (from unstructured-inference==0.7.33->unstructured[all-docs]==0.14.5->-r requirements.txt (line 5)) (0.9.16)\n",
      "Requirement already satisfied: transformers>=4.25.1 in /usr/local/lib/python3.10/dist-packages (from unstructured-inference==0.7.33->unstructured[all-docs]==0.14.5->-r requirements.txt (line 5)) (4.40.0)\n",
      "Collecting feedparser~=6.0.10 (from arxiv->-r requirements.txt (line 1))\n",
      "  Downloading feedparser-6.0.11-py3-none-any.whl.metadata (2.4 kB)\n",
      "Collecting requests (from unstructured==0.14.5->unstructured[all-docs]==0.14.5->-r requirements.txt (line 5))\n",
      "  Downloading requests-2.32.3-py3-none-any.whl.metadata (4.6 kB)\n",
      "Collecting arxiv (from -r requirements.txt (line 1))\n",
      "  Downloading arxiv-2.1.0-py3-none-any.whl.metadata (6.1 kB)\n",
      "Collecting feedparser==6.0.10 (from arxiv->-r requirements.txt (line 1))\n",
      "  Downloading feedparser-6.0.10-py3-none-any.whl.metadata (2.3 kB)\n",
      "Collecting sgmllib3k (from feedparser==6.0.10->arxiv->-r requirements.txt (line 1))\n",
      "  Downloading sgmllib3k-1.0.0.tar.gz (5.8 kB)\n",
      "  Preparing metadata (setup.py) ... \u001b[?25ldone\n",
      "\u001b[?25hRequirement already satisfied: charset-normalizer<4,>=2 in /usr/local/lib/python3.10/dist-packages (from requests->unstructured==0.14.5->unstructured[all-docs]==0.14.5->-r requirements.txt (line 5)) (3.3.2)\n",
      "Requirement already satisfied: idna<4,>=2.5 in /usr/local/lib/python3.10/dist-packages (from requests->unstructured==0.14.5->unstructured[all-docs]==0.14.5->-r requirements.txt (line 5)) (3.6)\n",
      "Requirement already satisfied: urllib3<3,>=1.21.1 in /usr/local/lib/python3.10/dist-packages (from requests->unstructured==0.14.5->unstructured[all-docs]==0.14.5->-r requirements.txt (line 5)) (1.26.18)\n",
      "Requirement already satisfied: certifi>=2017.4.17 in /usr/local/lib/python3.10/dist-packages (from requests->unstructured==0.14.5->unstructured[all-docs]==0.14.5->-r requirements.txt (line 5)) (2024.2.2)\n",
      "Requirement already satisfied: Click>=7.0 in /usr/local/lib/python3.10/dist-packages (from poppler-utils->-r requirements.txt (line 4)) (8.1.7)\n",
      "Requirement already satisfied: Pillow>=3.3.2 in /usr/local/lib/python3.10/dist-packages (from python-pptx<=0.6.23->unstructured[all-docs]==0.14.5->-r requirements.txt (line 5)) (10.2.0)\n",
      "Collecting XlsxWriter>=0.5.7 (from python-pptx<=0.6.23->unstructured[all-docs]==0.14.5->-r requirements.txt (line 5))\n",
      "  Downloading XlsxWriter-3.2.0-py3-none-any.whl.metadata (2.6 kB)\n",
      "Requirement already satisfied: packaging>=21.3 in /usr/local/lib/python3.10/dist-packages (from unstructured.pytesseract>=0.3.12->unstructured[all-docs]==0.14.5->-r requirements.txt (line 5)) (23.2)\n",
      "Requirement already satisfied: soupsieve>1.2 in /usr/local/lib/python3.10/dist-packages (from beautifulsoup4->unstructured==0.14.5->unstructured[all-docs]==0.14.5->-r requirements.txt (line 5)) (2.5)\n",
      "Collecting marshmallow<4.0.0,>=3.18.0 (from dataclasses-json->unstructured==0.14.5->unstructured[all-docs]==0.14.5->-r requirements.txt (line 5))\n",
      "  Downloading marshmallow-3.21.3-py3-none-any.whl.metadata (7.1 kB)\n",
      "Requirement already satisfied: typing-inspect<1,>=0.4.0 in /usr/local/lib/python3.10/dist-packages (from dataclasses-json->unstructured==0.14.5->unstructured[all-docs]==0.14.5->-r requirements.txt (line 5)) (0.9.0)\n",
      "Requirement already satisfied: torchvision in /usr/local/lib/python3.10/dist-packages (from effdet->unstructured[all-docs]==0.14.5->-r requirements.txt (line 5)) (0.18.0a0)\n",
      "Collecting pycocotools>=2.0.2 (from effdet->unstructured[all-docs]==0.14.5->-r requirements.txt (line 5))\n",
      "  Downloading pycocotools-2.0.8-cp310-cp310-manylinux_2_17_x86_64.manylinux2014_x86_64.whl.metadata (1.1 kB)\n",
      "Requirement already satisfied: omegaconf>=2.0 in /usr/local/lib/python3.10/dist-packages (from effdet->unstructured[all-docs]==0.14.5->-r requirements.txt (line 5)) (2.2.3)\n",
      "Collecting google-api-core!=2.0.*,!=2.1.*,!=2.10.*,!=2.2.*,!=2.3.*,!=2.4.*,!=2.5.*,!=2.6.*,!=2.7.*,!=2.8.*,!=2.9.*,<3.0.0dev,>=1.34.1 (from google-api-core[grpc]!=2.0.*,!=2.1.*,!=2.10.*,!=2.2.*,!=2.3.*,!=2.4.*,!=2.5.*,!=2.6.*,!=2.7.*,!=2.8.*,!=2.9.*,<3.0.0dev,>=1.34.1->google-cloud-vision->unstructured[all-docs]==0.14.5->-r requirements.txt (line 5))\n",
      "  Downloading google_api_core-2.19.1-py3-none-any.whl.metadata (2.7 kB)\n",
      "Requirement already satisfied: google-auth!=2.24.0,!=2.25.0,<3.0.0dev,>=2.14.1 in /usr/local/lib/python3.10/dist-packages (from google-cloud-vision->unstructured[all-docs]==0.14.5->-r requirements.txt (line 5)) (2.27.0)\n",
      "Collecting proto-plus<2.0.0dev,>=1.22.3 (from google-cloud-vision->unstructured[all-docs]==0.14.5->-r requirements.txt (line 5))\n",
      "  Downloading proto_plus-1.24.0-py3-none-any.whl.metadata (2.2 kB)\n",
      "Requirement already satisfied: protobuf!=4.21.0,!=4.21.1,!=4.21.2,!=4.21.3,!=4.21.4,!=4.21.5,<6.0.0dev,>=3.20.2 in /usr/local/lib/python3.10/dist-packages (from google-cloud-vision->unstructured[all-docs]==0.14.5->-r requirements.txt (line 5)) (3.20.3)\n",
      "Requirement already satisfied: six in /usr/local/lib/python3.10/dist-packages (from langdetect->unstructured==0.14.5->unstructured[all-docs]==0.14.5->-r requirements.txt (line 5)) (1.16.0)\n",
      "Requirement already satisfied: joblib in /usr/local/lib/python3.10/dist-packages (from nltk->unstructured==0.14.5->unstructured[all-docs]==0.14.5->-r requirements.txt (line 5)) (1.3.2)\n",
      "Requirement already satisfied: regex>=2021.8.3 in /usr/local/lib/python3.10/dist-packages (from nltk->unstructured==0.14.5->unstructured[all-docs]==0.14.5->-r requirements.txt (line 5)) (2023.12.25)\n",
      "Requirement already satisfied: tqdm in /usr/local/lib/python3.10/dist-packages (from nltk->unstructured==0.14.5->unstructured[all-docs]==0.14.5->-r requirements.txt (line 5)) (4.62.3)\n",
      "Collecting et-xmlfile (from openpyxl->unstructured[all-docs]==0.14.5->-r requirements.txt (line 5))\n",
      "  Downloading et_xmlfile-1.1.0-py3-none-any.whl.metadata (1.8 kB)\n",
      "Requirement already satisfied: python-dateutil>=2.8.2 in /usr/local/lib/python3.10/dist-packages (from pandas->unstructured[all-docs]==0.14.5->-r requirements.txt (line 5)) (2.8.2)\n",
      "Requirement already satisfied: pytz>=2020.1 in /usr/local/lib/python3.10/dist-packages (from pandas->unstructured[all-docs]==0.14.5->-r requirements.txt (line 5)) (2023.3.post1)\n",
      "Requirement already satisfied: tzdata>=2022.7 in /usr/local/lib/python3.10/dist-packages (from pandas->unstructured[all-docs]==0.14.5->-r requirements.txt (line 5)) (2024.1)\n",
      "Collecting cryptography>=36.0.0 (from pdfminer.six->unstructured[all-docs]==0.14.5->-r requirements.txt (line 5))\n",
      "  Downloading cryptography-42.0.8-cp39-abi3-manylinux_2_28_x86_64.whl.metadata (5.3 kB)\n",
      "Requirement already satisfied: Deprecated in /usr/local/lib/python3.10/dist-packages (from pikepdf->unstructured[all-docs]==0.14.5->-r requirements.txt (line 5)) (1.2.14)\n",
      "Collecting olefile (from python-oxmsg->unstructured[all-docs]==0.14.5->-r requirements.txt (line 5))\n",
      "  Downloading olefile-0.47-py2.py3-none-any.whl.metadata (9.7 kB)\n",
      "Collecting deepdiff>=6.0 (from unstructured-client->unstructured==0.14.5->unstructured[all-docs]==0.14.5->-r requirements.txt (line 5))\n",
      "  Downloading deepdiff-7.0.1-py3-none-any.whl.metadata (6.8 kB)\n",
      "Collecting httpx>=0.27.0 (from unstructured-client->unstructured==0.14.5->unstructured[all-docs]==0.14.5->-r requirements.txt (line 5))\n",
      "  Downloading httpx-0.27.0-py3-none-any.whl.metadata (7.2 kB)\n"
     ]
    },
    {
     "name": "stdout",
     "output_type": "stream",
     "text": [
      "Collecting jsonpath-python>=1.0.6 (from unstructured-client->unstructured==0.14.5->unstructured[all-docs]==0.14.5->-r requirements.txt (line 5))\n",
      "  Downloading jsonpath_python-1.0.6-py3-none-any.whl.metadata (12 kB)\n",
      "Requirement already satisfied: mypy-extensions>=1.0.0 in /usr/local/lib/python3.10/dist-packages (from unstructured-client->unstructured==0.14.5->unstructured[all-docs]==0.14.5->-r requirements.txt (line 5)) (1.0.0)\n",
      "Requirement already satisfied: nest-asyncio>=1.6.0 in /usr/local/lib/python3.10/dist-packages (from unstructured-client->unstructured==0.14.5->unstructured[all-docs]==0.14.5->-r requirements.txt (line 5)) (1.6.0)\n",
      "Collecting requests-toolbelt>=1.0.0 (from unstructured-client->unstructured==0.14.5->unstructured[all-docs]==0.14.5->-r requirements.txt (line 5))\n",
      "  Downloading requests_toolbelt-1.0.0-py2.py3-none-any.whl.metadata (14 kB)\n",
      "Requirement already satisfied: cffi>=1.12 in /usr/local/lib/python3.10/dist-packages (from cryptography>=36.0.0->pdfminer.six->unstructured[all-docs]==0.14.5->-r requirements.txt (line 5)) (1.16.0)\n",
      "Collecting ordered-set<4.2.0,>=4.1.0 (from deepdiff>=6.0->unstructured-client->unstructured==0.14.5->unstructured[all-docs]==0.14.5->-r requirements.txt (line 5))\n",
      "  Downloading ordered_set-4.1.0-py3-none-any.whl.metadata (5.3 kB)\n",
      "Collecting googleapis-common-protos<2.0.dev0,>=1.56.2 (from google-api-core!=2.0.*,!=2.1.*,!=2.10.*,!=2.2.*,!=2.3.*,!=2.4.*,!=2.5.*,!=2.6.*,!=2.7.*,!=2.8.*,!=2.9.*,<3.0.0dev,>=1.34.1->google-api-core[grpc]!=2.0.*,!=2.1.*,!=2.10.*,!=2.2.*,!=2.3.*,!=2.4.*,!=2.5.*,!=2.6.*,!=2.7.*,!=2.8.*,!=2.9.*,<3.0.0dev,>=1.34.1->google-cloud-vision->unstructured[all-docs]==0.14.5->-r requirements.txt (line 5))\n",
      "  Downloading googleapis_common_protos-1.63.2-py2.py3-none-any.whl.metadata (1.5 kB)\n",
      "Requirement already satisfied: grpcio<2.0dev,>=1.33.2 in /usr/local/lib/python3.10/dist-packages (from google-api-core[grpc]!=2.0.*,!=2.1.*,!=2.10.*,!=2.2.*,!=2.3.*,!=2.4.*,!=2.5.*,!=2.6.*,!=2.7.*,!=2.8.*,!=2.9.*,<3.0.0dev,>=1.34.1->google-cloud-vision->unstructured[all-docs]==0.14.5->-r requirements.txt (line 5)) (1.60.1)\n",
      "Collecting grpcio-status<2.0.dev0,>=1.33.2 (from google-api-core[grpc]!=2.0.*,!=2.1.*,!=2.10.*,!=2.2.*,!=2.3.*,!=2.4.*,!=2.5.*,!=2.6.*,!=2.7.*,!=2.8.*,!=2.9.*,<3.0.0dev,>=1.34.1->google-cloud-vision->unstructured[all-docs]==0.14.5->-r requirements.txt (line 5))\n",
      "  Downloading grpcio_status-1.64.1-py3-none-any.whl.metadata (1.1 kB)\n",
      "Requirement already satisfied: cachetools<6.0,>=2.0.0 in /usr/local/lib/python3.10/dist-packages (from google-auth!=2.24.0,!=2.25.0,<3.0.0dev,>=2.14.1->google-cloud-vision->unstructured[all-docs]==0.14.5->-r requirements.txt (line 5)) (5.3.2)\n",
      "Requirement already satisfied: pyasn1-modules>=0.2.1 in /usr/local/lib/python3.10/dist-packages (from google-auth!=2.24.0,!=2.25.0,<3.0.0dev,>=2.14.1->google-cloud-vision->unstructured[all-docs]==0.14.5->-r requirements.txt (line 5)) (0.3.0)\n",
      "Requirement already satisfied: rsa<5,>=3.1.4 in /usr/local/lib/python3.10/dist-packages (from google-auth!=2.24.0,!=2.25.0,<3.0.0dev,>=2.14.1->google-cloud-vision->unstructured[all-docs]==0.14.5->-r requirements.txt (line 5)) (4.7.2)\n",
      "Collecting anyio (from httpx>=0.27.0->unstructured-client->unstructured==0.14.5->unstructured[all-docs]==0.14.5->-r requirements.txt (line 5))\n",
      "  Downloading anyio-4.4.0-py3-none-any.whl.metadata (4.6 kB)\n",
      "Collecting httpcore==1.* (from httpx>=0.27.0->unstructured-client->unstructured==0.14.5->unstructured[all-docs]==0.14.5->-r requirements.txt (line 5))\n",
      "  Downloading httpcore-1.0.5-py3-none-any.whl.metadata (20 kB)\n",
      "Collecting sniffio (from httpx>=0.27.0->unstructured-client->unstructured==0.14.5->unstructured[all-docs]==0.14.5->-r requirements.txt (line 5))\n",
      "  Downloading sniffio-1.3.1-py3-none-any.whl.metadata (3.9 kB)\n",
      "Collecting h11<0.15,>=0.13 (from httpcore==1.*->httpx>=0.27.0->unstructured-client->unstructured==0.14.5->unstructured[all-docs]==0.14.5->-r requirements.txt (line 5))\n",
      "  Downloading h11-0.14.0-py3-none-any.whl.metadata (8.2 kB)\n",
      "Requirement already satisfied: antlr4-python3-runtime==4.9.* in /usr/local/lib/python3.10/dist-packages (from omegaconf>=2.0->effdet->unstructured[all-docs]==0.14.5->-r requirements.txt (line 5)) (4.9.3)\n",
      "Requirement already satisfied: PyYAML>=5.1.0 in /usr/local/lib/python3.10/dist-packages (from omegaconf>=2.0->effdet->unstructured[all-docs]==0.14.5->-r requirements.txt (line 5)) (6.0.1)\n",
      "Collecting coloredlogs (from onnxruntime>=1.17.0->unstructured-inference==0.7.33->unstructured[all-docs]==0.14.5->-r requirements.txt (line 5))\n",
      "  Downloading coloredlogs-15.0.1-py2.py3-none-any.whl.metadata (12 kB)\n",
      "Collecting flatbuffers (from onnxruntime>=1.17.0->unstructured-inference==0.7.33->unstructured[all-docs]==0.14.5->-r requirements.txt (line 5))\n",
      "  Downloading flatbuffers-24.3.25-py2.py3-none-any.whl.metadata (850 bytes)\n",
      "Requirement already satisfied: sympy in /usr/local/lib/python3.10/dist-packages (from onnxruntime>=1.17.0->unstructured-inference==0.7.33->unstructured[all-docs]==0.14.5->-r requirements.txt (line 5)) (1.12)\n",
      "Requirement already satisfied: contourpy>=1.0.1 in /usr/local/lib/python3.10/dist-packages (from matplotlib->unstructured-inference==0.7.33->unstructured[all-docs]==0.14.5->-r requirements.txt (line 5)) (1.2.0)\n",
      "Requirement already satisfied: cycler>=0.10 in /usr/local/lib/python3.10/dist-packages (from matplotlib->unstructured-inference==0.7.33->unstructured[all-docs]==0.14.5->-r requirements.txt (line 5)) (0.12.1)\n",
      "Requirement already satisfied: fonttools>=4.22.0 in /usr/local/lib/python3.10/dist-packages (from matplotlib->unstructured-inference==0.7.33->unstructured[all-docs]==0.14.5->-r requirements.txt (line 5)) (4.48.1)\n",
      "Requirement already satisfied: kiwisolver>=1.3.1 in /usr/local/lib/python3.10/dist-packages (from matplotlib->unstructured-inference==0.7.33->unstructured[all-docs]==0.14.5->-r requirements.txt (line 5)) (1.4.5)\n",
      "Requirement already satisfied: pyparsing>=2.3.1 in /usr/local/lib/python3.10/dist-packages (from matplotlib->unstructured-inference==0.7.33->unstructured[all-docs]==0.14.5->-r requirements.txt (line 5)) (3.1.1)\n",
      "Requirement already satisfied: safetensors in /usr/local/lib/python3.10/dist-packages (from timm->unstructured-inference==0.7.33->unstructured[all-docs]==0.14.5->-r requirements.txt (line 5)) (0.4.3)\n",
      "Requirement already satisfied: filelock in /usr/local/lib/python3.10/dist-packages (from torch->unstructured-inference==0.7.33->unstructured[all-docs]==0.14.5->-r requirements.txt (line 5)) (3.13.1)\n",
      "Requirement already satisfied: jinja2 in /usr/local/lib/python3.10/dist-packages (from torch->unstructured-inference==0.7.33->unstructured[all-docs]==0.14.5->-r requirements.txt (line 5)) (3.1.3)\n",
      "Requirement already satisfied: fsspec in /usr/local/lib/python3.10/dist-packages (from torch->unstructured-inference==0.7.33->unstructured[all-docs]==0.14.5->-r requirements.txt (line 5)) (2023.12.2)\n",
      "Requirement already satisfied: tokenizers<0.20,>=0.19 in /usr/local/lib/python3.10/dist-packages (from transformers>=4.25.1->unstructured-inference==0.7.33->unstructured[all-docs]==0.14.5->-r requirements.txt (line 5)) (0.19.1)\n",
      "Requirement already satisfied: scipy in /usr/local/lib/python3.10/dist-packages (from layoutparser->unstructured-inference==0.7.33->unstructured[all-docs]==0.14.5->-r requirements.txt (line 5)) (1.12.0)\n",
      "Collecting iopath (from layoutparser->unstructured-inference==0.7.33->unstructured[all-docs]==0.14.5->-r requirements.txt (line 5))\n",
      "  Downloading iopath-0.1.10.tar.gz (42 kB)\n",
      "\u001b[2K     \u001b[90m━━━━━━━━━━━━━━━━━━━━━━━━━━━━━━━━━━━━━━━\u001b[0m \u001b[32m42.2/42.2 kB\u001b[0m \u001b[31m249.8 MB/s\u001b[0m eta \u001b[36m0:00:00\u001b[0m\n",
      "\u001b[?25h  Preparing metadata (setup.py) ... \u001b[?25ldone\n",
      "\u001b[?25hCollecting pdfplumber (from layoutparser->unstructured-inference==0.7.33->unstructured[all-docs]==0.14.5->-r requirements.txt (line 5))\n",
      "  Downloading pdfplumber-0.11.2-py3-none-any.whl.metadata (40 kB)\n",
      "\u001b[2K     \u001b[90m━━━━━━━━━━━━━━━━━━━━━━━━━━━━━━━━━━━━━━━\u001b[0m \u001b[32m40.1/40.1 kB\u001b[0m \u001b[31m242.3 MB/s\u001b[0m eta \u001b[36m0:00:00\u001b[0m\n",
      "\u001b[?25hRequirement already satisfied: pycparser in /usr/local/lib/python3.10/dist-packages (from cffi>=1.12->cryptography>=36.0.0->pdfminer.six->unstructured[all-docs]==0.14.5->-r requirements.txt (line 5)) (2.21)\n"
     ]
    },
    {
     "name": "stdout",
     "output_type": "stream",
     "text": [
      "Collecting protobuf!=4.21.0,!=4.21.1,!=4.21.2,!=4.21.3,!=4.21.4,!=4.21.5,<6.0.0dev,>=3.20.2 (from google-cloud-vision->unstructured[all-docs]==0.14.5->-r requirements.txt (line 5))\n",
      "  Downloading protobuf-5.27.2-cp38-abi3-manylinux2014_x86_64.whl.metadata (592 bytes)\n",
      "Collecting grpcio<2.0dev,>=1.33.2 (from google-api-core[grpc]!=2.0.*,!=2.1.*,!=2.10.*,!=2.2.*,!=2.3.*,!=2.4.*,!=2.5.*,!=2.6.*,!=2.7.*,!=2.8.*,!=2.9.*,<3.0.0dev,>=1.34.1->google-cloud-vision->unstructured[all-docs]==0.14.5->-r requirements.txt (line 5))\n",
      "  Downloading grpcio-1.64.1-cp310-cp310-manylinux_2_17_x86_64.manylinux2014_x86_64.whl.metadata (3.3 kB)\n",
      "Requirement already satisfied: pyasn1<0.6.0,>=0.4.6 in /usr/local/lib/python3.10/dist-packages (from pyasn1-modules>=0.2.1->google-auth!=2.24.0,!=2.25.0,<3.0.0dev,>=2.14.1->google-cloud-vision->unstructured[all-docs]==0.14.5->-r requirements.txt (line 5)) (0.5.1)\n",
      "Requirement already satisfied: exceptiongroup>=1.0.2 in /usr/local/lib/python3.10/dist-packages (from anyio->httpx>=0.27.0->unstructured-client->unstructured==0.14.5->unstructured[all-docs]==0.14.5->-r requirements.txt (line 5)) (1.2.0)\n",
      "Collecting humanfriendly>=9.1 (from coloredlogs->onnxruntime>=1.17.0->unstructured-inference==0.7.33->unstructured[all-docs]==0.14.5->-r requirements.txt (line 5))\n",
      "  Downloading humanfriendly-10.0-py2.py3-none-any.whl.metadata (9.2 kB)\n",
      "Requirement already satisfied: portalocker in /usr/local/lib/python3.10/dist-packages (from iopath->layoutparser->unstructured-inference==0.7.33->unstructured[all-docs]==0.14.5->-r requirements.txt (line 5)) (2.8.2)\n",
      "Requirement already satisfied: MarkupSafe>=2.0 in /usr/local/lib/python3.10/dist-packages (from jinja2->torch->unstructured-inference==0.7.33->unstructured[all-docs]==0.14.5->-r requirements.txt (line 5)) (2.1.4)\n",
      "Collecting pdfminer.six (from unstructured[all-docs]==0.14.5->-r requirements.txt (line 5))\n",
      "  Downloading pdfminer.six-20231228-py3-none-any.whl.metadata (4.2 kB)\n",
      "Collecting pypdfium2>=4.18.0 (from pdfplumber->layoutparser->unstructured-inference==0.7.33->unstructured[all-docs]==0.14.5->-r requirements.txt (line 5))\n",
      "  Downloading pypdfium2-4.30.0-py3-none-manylinux_2_17_x86_64.manylinux2014_x86_64.whl.metadata (48 kB)\n",
      "\u001b[2K     \u001b[90m━━━━━━━━━━━━━━━━━━━━━━━━━━━━━━━━━━━━━━━\u001b[0m \u001b[32m48.5/48.5 kB\u001b[0m \u001b[31m256.8 MB/s\u001b[0m eta \u001b[36m0:00:00\u001b[0m\n",
      "\u001b[?25hRequirement already satisfied: mpmath>=0.19 in /usr/local/lib/python3.10/dist-packages (from sympy->onnxruntime>=1.17.0->unstructured-inference==0.7.33->unstructured[all-docs]==0.14.5->-r requirements.txt (line 5)) (1.3.0)\n",
      "Downloading unstructured-0.14.5-py3-none-any.whl (2.0 MB)\n",
      "\u001b[2K   \u001b[90m━━━━━━━━━━━━━━━━━━━━━━━━━━━━━━━━━━━━━━━━\u001b[0m \u001b[32m2.0/2.0 MB\u001b[0m \u001b[31m109.5 MB/s\u001b[0m eta \u001b[36m0:00:00\u001b[0m\n",
      "\u001b[?25hDownloading unstructured_inference-0.7.33-py3-none-any.whl (56 kB)\n",
      "\u001b[2K   \u001b[90m━━━━━━━━━━━━━━━━━━━━━━━━━━━━━━━━━━━━━━━━\u001b[0m \u001b[32m56.2/56.2 kB\u001b[0m \u001b[31m286.6 MB/s\u001b[0m eta \u001b[36m0:00:00\u001b[0m\n",
      "\u001b[?25hDownloading arxiv_downloader-1.0.0-py3-none-any.whl (4.2 kB)\n",
      "Downloading arxiv-2.1.0-py3-none-any.whl (11 kB)\n",
      "Downloading feedparser-6.0.10-py3-none-any.whl (81 kB)\n",
      "\u001b[2K   \u001b[90m━━━━━━━━━━━━━━━━━━━━━━━━━━━━━━━━━━━━━━━━\u001b[0m \u001b[32m81.1/81.1 kB\u001b[0m \u001b[31m295.1 MB/s\u001b[0m eta \u001b[36m0:00:00\u001b[0m\n",
      "\u001b[?25hDownloading poppler_utils-0.1.0-py3-none-any.whl (9.2 kB)\n",
      "Downloading python_docx-1.1.2-py3-none-any.whl (244 kB)\n",
      "\u001b[2K   \u001b[90m━━━━━━━━━━━━━━━━━━━━━━━━━━━━━━━━━━━━━━━\u001b[0m \u001b[32m244.3/244.3 kB\u001b[0m \u001b[31m168.8 MB/s\u001b[0m eta \u001b[36m0:00:00\u001b[0m\n",
      "\u001b[?25hDownloading python_pptx-0.6.23-py3-none-any.whl (471 kB)\n",
      "\u001b[2K   \u001b[90m━━━━━━━━━━━━━━━━━━━━━━━━━━━━━━━━━━━━━━━\u001b[0m \u001b[32m471.6/471.6 kB\u001b[0m \u001b[31m149.3 MB/s\u001b[0m eta \u001b[36m0:00:00\u001b[0m\n",
      "\u001b[?25hDownloading unstructured.pytesseract-0.3.12-py3-none-any.whl (14 kB)\n",
      "Downloading backoff-2.2.1-py3-none-any.whl (15 kB)\n",
      "Downloading dataclasses_json-0.6.7-py3-none-any.whl (28 kB)\n",
      "Downloading effdet-0.4.1-py3-none-any.whl (112 kB)\n",
      "\u001b[2K   \u001b[90m━━━━━━━━━━━━━━━━━━━━━━━━━━━━━━━━━━━━━━━\u001b[0m \u001b[32m112.5/112.5 kB\u001b[0m \u001b[31m326.2 MB/s\u001b[0m eta \u001b[36m0:00:00\u001b[0m\n",
      "\u001b[?25hDownloading emoji-2.12.1-py3-none-any.whl (431 kB)\n",
      "\u001b[2K   \u001b[90m━━━━━━━━━━━━━━━━━━━━━━━━━━━━━━━━━━━━━━━\u001b[0m \u001b[32m431.4/431.4 kB\u001b[0m \u001b[31m144.2 MB/s\u001b[0m eta \u001b[36m0:00:00\u001b[0m\n",
      "\u001b[?25hDownloading filetype-1.2.0-py2.py3-none-any.whl (19 kB)\n",
      "Downloading google_cloud_vision-3.7.3-py2.py3-none-any.whl (466 kB)\n",
      "\u001b[2K   \u001b[90m━━━━━━━━━━━━━━━━━━━━━━━━━━━━━━━━━━━━━━━\u001b[0m \u001b[32m466.4/466.4 kB\u001b[0m \u001b[31m149.1 MB/s\u001b[0m eta \u001b[36m0:00:00\u001b[0m\n",
      "\u001b[?25hDownloading openpyxl-3.1.5-py2.py3-none-any.whl (250 kB)\n",
      "\u001b[2K   \u001b[90m━━━━━━━━━━━━━━━━━━━━━━━━━━━━━━━━━━━━━━━\u001b[0m \u001b[32m250.9/250.9 kB\u001b[0m \u001b[31m207.1 MB/s\u001b[0m eta \u001b[36m0:00:00\u001b[0m\n",
      "\u001b[?25hDownloading pdf2image-1.17.0-py3-none-any.whl (11 kB)\n",
      "Downloading pikepdf-9.0.0-cp310-cp310-manylinux_2_17_x86_64.manylinux2014_x86_64.whl (2.4 MB)\n",
      "\u001b[2K   \u001b[90m━━━━━━━━━━━━━━━━━━━━━━━━━━━━━━━━━━━━━━━━\u001b[0m \u001b[32m2.4/2.4 MB\u001b[0m \u001b[31m103.2 MB/s\u001b[0m eta \u001b[36m0:00:00\u001b[0m\n",
      "\u001b[?25hDownloading pillow_heif-0.17.0-cp310-cp310-manylinux_2_17_x86_64.manylinux2014_x86_64.whl (7.5 MB)\n",
      "\u001b[2K   \u001b[90m━━━━━━━━━━━━━━━━━━━━━━━━━━━━━━━━━━━━━━━━\u001b[0m \u001b[32m7.5/7.5 MB\u001b[0m \u001b[31m115.3 MB/s\u001b[0m eta \u001b[36m0:00:00\u001b[0ma \u001b[36m0:00:01\u001b[0m\n",
      "\u001b[?25hDownloading pypandoc-1.13-py3-none-any.whl (21 kB)\n",
      "Downloading pypdf-4.2.0-py3-none-any.whl (290 kB)\n",
      "\u001b[2K   \u001b[90m━━━━━━━━━━━━━━━━━━━━━━━━━━━━━━━━━━━━━━━\u001b[0m \u001b[32m290.4/290.4 kB\u001b[0m \u001b[31m191.9 MB/s\u001b[0m eta \u001b[36m0:00:00\u001b[0m\n",
      "\u001b[?25hDownloading pytesseract-0.3.10-py3-none-any.whl (14 kB)\n",
      "Downloading python_iso639-2024.4.27-py3-none-any.whl (274 kB)\n",
      "\u001b[2K   \u001b[90m━━━━━━━━━━━━━━━━━━━━━━━━━━━━━━━━━━━━━━━\u001b[0m \u001b[32m274.7/274.7 kB\u001b[0m \u001b[31m181.1 MB/s\u001b[0m eta \u001b[36m0:00:00\u001b[0m\n",
      "\u001b[?25hDownloading python_oxmsg-0.0.1-py3-none-any.whl (31 kB)\n",
      "Downloading unstructured_client-0.24.0-py3-none-any.whl (40 kB)\n",
      "\u001b[2K   \u001b[90m━━━━━━━━━━━━━━━━━━━━━━━━━━━━━━━━━━━━━━━━\u001b[0m \u001b[32m41.0/41.0 kB\u001b[0m \u001b[31m278.1 MB/s\u001b[0m eta \u001b[36m0:00:00\u001b[0m\n",
      "\u001b[?25hDownloading xlrd-2.0.1-py2.py3-none-any.whl (96 kB)\n",
      "\u001b[2K   \u001b[90m━━━━━━━━━━━━━━━━━━━━━━━━━━━━━━━━━━━━━━━━\u001b[0m \u001b[32m96.5/96.5 kB\u001b[0m \u001b[31m310.8 MB/s\u001b[0m eta \u001b[36m0:00:00\u001b[0m\n",
      "\u001b[?25hDownloading cryptography-42.0.8-cp39-abi3-manylinux_2_28_x86_64.whl (3.9 MB)\n",
      "\u001b[2K   \u001b[90m━━━━━━━━━━━━━━━━━━━━━━━━━━━━━━━━━━━━━━━━\u001b[0m \u001b[32m3.9/3.9 MB\u001b[0m \u001b[31m121.8 MB/s\u001b[0m eta \u001b[36m0:00:00\u001b[0m\n",
      "\u001b[?25hDownloading deepdiff-7.0.1-py3-none-any.whl (80 kB)\n",
      "\u001b[2K   \u001b[90m━━━━━━━━━━━━━━━━━━━━━━━━━━━━━━━━━━━━━━━━\u001b[0m \u001b[32m80.8/80.8 kB\u001b[0m \u001b[31m317.4 MB/s\u001b[0m eta \u001b[36m0:00:00\u001b[0m\n",
      "\u001b[?25hDownloading google_api_core-2.19.1-py3-none-any.whl (139 kB)\n",
      "\u001b[2K   \u001b[90m━━━━━━━━━━━━━━━━━━━━━━━━━━━━━━━━━━━━━━━\u001b[0m \u001b[32m139.4/139.4 kB\u001b[0m \u001b[31m327.6 MB/s\u001b[0m eta \u001b[36m0:00:00\u001b[0m\n",
      "\u001b[?25hDownloading httpx-0.27.0-py3-none-any.whl (75 kB)\n",
      "\u001b[2K   \u001b[90m━━━━━━━━━━━━━━━━━━━━━━━━━━━━━━━━━━━━━━━━\u001b[0m \u001b[32m75.6/75.6 kB\u001b[0m \u001b[31m302.4 MB/s\u001b[0m eta \u001b[36m0:00:00\u001b[0m\n",
      "\u001b[?25hDownloading httpcore-1.0.5-py3-none-any.whl (77 kB)\n",
      "\u001b[2K   \u001b[90m━━━━━━━━━━━━━━━━━━━━━━━━━━━━━━━━━━━━━━━━\u001b[0m \u001b[32m77.9/77.9 kB\u001b[0m \u001b[31m267.4 MB/s\u001b[0m eta \u001b[36m0:00:00\u001b[0m\n",
      "\u001b[?25hDownloading jsonpath_python-1.0.6-py3-none-any.whl (7.6 kB)\n",
      "Downloading marshmallow-3.21.3-py3-none-any.whl (49 kB)\n",
      "\u001b[2K   \u001b[90m━━━━━━━━━━━━━━━━━━━━━━━━━━━━━━━━━━━━━━━━\u001b[0m \u001b[32m49.2/49.2 kB\u001b[0m \u001b[31m275.7 MB/s\u001b[0m eta \u001b[36m0:00:00\u001b[0m\n",
      "\u001b[?25hDownloading onnxruntime-1.18.1-cp310-cp310-manylinux_2_27_x86_64.manylinux_2_28_x86_64.whl (6.8 MB)\n",
      "\u001b[2K   \u001b[90m━━━━━━━━━━━━━━━━━━━━━━━━━━━━━━━━━━━━━━━━\u001b[0m \u001b[32m6.8/6.8 MB\u001b[0m \u001b[31m117.2 MB/s\u001b[0m eta \u001b[36m0:00:00\u001b[0ma \u001b[36m0:00:01\u001b[0m\n",
      "\u001b[?25hDownloading opencv_python-4.10.0.84-cp37-abi3-manylinux_2_17_x86_64.manylinux2014_x86_64.whl (62.5 MB)\n",
      "\u001b[2K   \u001b[90m━━━━━━━━━━━━━━━━━━━━━━━━━━━━━━━━━━━━━━━━\u001b[0m \u001b[32m62.5/62.5 MB\u001b[0m \u001b[31m115.8 MB/s\u001b[0m eta \u001b[36m0:00:00\u001b[0ma \u001b[36m0:00:01\u001b[0m\n",
      "\u001b[?25hDownloading proto_plus-1.24.0-py3-none-any.whl (50 kB)\n",
      "\u001b[2K   \u001b[90m━━━━━━━━━━━━━━━━━━━━━━━━━━━━━━━━━━━━━━━━\u001b[0m \u001b[32m50.1/50.1 kB\u001b[0m \u001b[31m272.0 MB/s\u001b[0m eta \u001b[36m0:00:00\u001b[0m\n",
      "\u001b[?25hDownloading pycocotools-2.0.8-cp310-cp310-manylinux_2_17_x86_64.manylinux2014_x86_64.whl (427 kB)\n",
      "\u001b[2K   \u001b[90m━━━━━━━━━━━━━━━━━━━━━━━━━━━━━━━━━━━━━━━\u001b[0m \u001b[32m427.8/427.8 kB\u001b[0m \u001b[31m230.4 MB/s\u001b[0m eta \u001b[36m0:00:00\u001b[0m\n",
      "\u001b[?25hDownloading requests_toolbelt-1.0.0-py2.py3-none-any.whl (54 kB)\n",
      "\u001b[2K   \u001b[90m━━━━━━━━━━━━━━━━━━━━━━━━━━━━━━━━━━━━━━━━\u001b[0m \u001b[32m54.5/54.5 kB\u001b[0m \u001b[31m275.5 MB/s\u001b[0m eta \u001b[36m0:00:00\u001b[0m\n",
      "\u001b[?25hDownloading XlsxWriter-3.2.0-py3-none-any.whl (159 kB)\n",
      "\u001b[2K   \u001b[90m━━━━━━━━━━━━━━━━━━━━━━━━━━━━━━━━━━━━━━━\u001b[0m \u001b[32m159.9/159.9 kB\u001b[0m \u001b[31m332.6 MB/s\u001b[0m eta \u001b[36m0:00:00\u001b[0m\n",
      "\u001b[?25hDownloading et_xmlfile-1.1.0-py3-none-any.whl (4.7 kB)\n",
      "Downloading layoutparser-0.3.4-py3-none-any.whl (19.2 MB)\n"
     ]
    },
    {
     "name": "stdout",
     "output_type": "stream",
     "text": [
      "\u001b[2K   \u001b[90m━━━━━━━━━━━━━━━━━━━━━━━━━━━━━━━━━━━━━━━━\u001b[0m \u001b[32m19.2/19.2 MB\u001b[0m \u001b[31m117.5 MB/s\u001b[0m eta \u001b[36m0:00:00\u001b[0ma \u001b[36m0:00:01\u001b[0m\n",
      "\u001b[?25hDownloading olefile-0.47-py2.py3-none-any.whl (114 kB)\n",
      "\u001b[2K   \u001b[90m━━━━━━━━━━━━━━━━━━━━━━━━━━━━━━━━━━━━━━━\u001b[0m \u001b[32m114.6/114.6 kB\u001b[0m \u001b[31m316.3 MB/s\u001b[0m eta \u001b[36m0:00:00\u001b[0m\n",
      "\u001b[?25hDownloading python_multipart-0.0.9-py3-none-any.whl (22 kB)\n",
      "Downloading googleapis_common_protos-1.63.2-py2.py3-none-any.whl (220 kB)\n",
      "\u001b[2K   \u001b[90m━━━━━━━━━━━━━━━━━━━━━━━━━━━━━━━━━━━━━━━\u001b[0m \u001b[32m220.0/220.0 kB\u001b[0m \u001b[31m338.4 MB/s\u001b[0m eta \u001b[36m0:00:00\u001b[0m\n",
      "\u001b[?25hDownloading grpcio_status-1.64.1-py3-none-any.whl (14 kB)\n",
      "Downloading protobuf-5.27.2-cp38-abi3-manylinux2014_x86_64.whl (309 kB)\n",
      "\u001b[2K   \u001b[90m━━━━━━━━━━━━━━━━━━━━━━━━━━━━━━━━━━━━━━━\u001b[0m \u001b[32m309.3/309.3 kB\u001b[0m \u001b[31m325.9 MB/s\u001b[0m eta \u001b[36m0:00:00\u001b[0m\n",
      "\u001b[?25hDownloading grpcio-1.64.1-cp310-cp310-manylinux_2_17_x86_64.manylinux2014_x86_64.whl (5.6 MB)\n",
      "\u001b[2K   \u001b[90m━━━━━━━━━━━━━━━━━━━━━━━━━━━━━━━━━━━━━━━━\u001b[0m \u001b[32m5.6/5.6 MB\u001b[0m \u001b[31m123.7 MB/s\u001b[0m eta \u001b[36m0:00:00\u001b[0ma \u001b[36m0:00:01\u001b[0m\n",
      "\u001b[?25hDownloading ordered_set-4.1.0-py3-none-any.whl (7.6 kB)\n",
      "Downloading anyio-4.4.0-py3-none-any.whl (86 kB)\n",
      "\u001b[2K   \u001b[90m━━━━━━━━━━━━━━━━━━━━━━━━━━━━━━━━━━━━━━━━\u001b[0m \u001b[32m86.8/86.8 kB\u001b[0m \u001b[31m292.4 MB/s\u001b[0m eta \u001b[36m0:00:00\u001b[0m\n",
      "\u001b[?25hDownloading sniffio-1.3.1-py3-none-any.whl (10 kB)\n",
      "Downloading coloredlogs-15.0.1-py2.py3-none-any.whl (46 kB)\n",
      "\u001b[2K   \u001b[90m━━━━━━━━━━━━━━━━━━━━━━━━━━━━━━━━━━━━━━━━\u001b[0m \u001b[32m46.0/46.0 kB\u001b[0m \u001b[31m276.3 MB/s\u001b[0m eta \u001b[36m0:00:00\u001b[0m\n",
      "\u001b[?25hDownloading flatbuffers-24.3.25-py2.py3-none-any.whl (26 kB)\n",
      "Downloading pdfplumber-0.11.2-py3-none-any.whl (58 kB)\n",
      "\u001b[2K   \u001b[90m━━━━━━━━━━━━━━━━━━━━━━━━━━━━━━━━━━━━━━━━\u001b[0m \u001b[32m58.0/58.0 kB\u001b[0m \u001b[31m278.7 MB/s\u001b[0m eta \u001b[36m0:00:00\u001b[0m\n",
      "\u001b[?25hDownloading pdfminer.six-20231228-py3-none-any.whl (5.6 MB)\n",
      "\u001b[2K   \u001b[90m━━━━━━━━━━━━━━━━━━━━━━━━━━━━━━━━━━━━━━━━\u001b[0m \u001b[32m5.6/5.6 MB\u001b[0m \u001b[31m121.8 MB/s\u001b[0m eta \u001b[36m0:00:00\u001b[0ma \u001b[36m0:00:01\u001b[0m\n",
      "\u001b[?25hDownloading h11-0.14.0-py3-none-any.whl (58 kB)\n",
      "\u001b[2K   \u001b[90m━━━━━━━━━━━━━━━━━━━━━━━━━━━━━━━━━━━━━━━━\u001b[0m \u001b[32m58.3/58.3 kB\u001b[0m \u001b[31m284.3 MB/s\u001b[0m eta \u001b[36m0:00:00\u001b[0m\n",
      "\u001b[?25hDownloading humanfriendly-10.0-py2.py3-none-any.whl (86 kB)\n",
      "\u001b[2K   \u001b[90m━━━━━━━━━━━━━━━━━━━━━━━━━━━━━━━━━━━━━━━━\u001b[0m \u001b[32m86.8/86.8 kB\u001b[0m \u001b[31m300.8 MB/s\u001b[0m eta \u001b[36m0:00:00\u001b[0m\n",
      "\u001b[?25hDownloading pypdfium2-4.30.0-py3-none-manylinux_2_17_x86_64.manylinux2014_x86_64.whl (2.8 MB)\n",
      "\u001b[2K   \u001b[90m━━━━━━━━━━━━━━━━━━━━━━━━━━━━━━━━━━━━━━━━\u001b[0m \u001b[32m2.8/2.8 MB\u001b[0m \u001b[31m127.3 MB/s\u001b[0m eta \u001b[36m0:00:00\u001b[0m\n",
      "\u001b[?25hBuilding wheels for collected packages: cchardet, langdetect, sgmllib3k, iopath\n",
      "  Building wheel for cchardet (setup.py) ... \u001b[?25ldone\n",
      "\u001b[?25h  Created wheel for cchardet: filename=cchardet-2.1.7-cp310-cp310-linux_x86_64.whl size=289366 sha256=183c5e4bc680a49399d617ec74e4d3697972cd6f113f63bf9d06dc895b9f587b\n",
      "  Stored in directory: /tmp/pip-ephem-wheel-cache-sv2gvase/wheels/ee/e0/ab/e01326f15c59438d080b1496dbab8091e952ec72f35e3c437e\n",
      "  Building wheel for langdetect (setup.py) ... \u001b[?25ldone\n",
      "\u001b[?25h  Created wheel for langdetect: filename=langdetect-1.0.9-py3-none-any.whl size=993225 sha256=53e513922ef0a03c21cb1ab95b2d53235c2cbe11c59c159b60a53f76dc5b0d64\n",
      "  Stored in directory: /tmp/pip-ephem-wheel-cache-sv2gvase/wheels/95/03/7d/59ea870c70ce4e5a370638b5462a7711ab78fba2f655d05106\n",
      "  Building wheel for sgmllib3k (setup.py) ... \u001b[?25ldone\n",
      "\u001b[?25h  Created wheel for sgmllib3k: filename=sgmllib3k-1.0.0-py3-none-any.whl size=6048 sha256=2531c888830760f464b746232ea1a7398f9327b70c7fdd0310485124440ccf80\n",
      "  Stored in directory: /tmp/pip-ephem-wheel-cache-sv2gvase/wheels/f0/69/93/a47e9d621be168e9e33c7ce60524393c0b92ae83cf6c6e89c5\n",
      "  Building wheel for iopath (setup.py) ... \u001b[?25ldone\n",
      "\u001b[?25h  Created wheel for iopath: filename=iopath-0.1.10-py3-none-any.whl size=31532 sha256=ee92e8b889de1f3370f364b29d50b60a83d9e1383cb65479ffb47fad0f3041a9\n",
      "  Stored in directory: /tmp/pip-ephem-wheel-cache-sv2gvase/wheels/9a/a3/b6/ac0fcd1b4ed5cfeb3db92e6a0e476cfd48ed0df92b91080c1d\n",
      "Successfully built cchardet langdetect sgmllib3k iopath\n",
      "Installing collected packages: sgmllib3k, flatbuffers, filetype, cchardet, XlsxWriter, xlrd, unstructured.pytesseract, sniffio, python-multipart, python-iso639, python-docx, pytesseract, pypdfium2, pypdf, pypandoc, protobuf, poppler-utils, pillow-heif, pdf2image, ordered-set, opencv-python, olefile, marshmallow, langdetect, jsonpath-python, iopath, humanfriendly, h11, grpcio, feedparser, et-xmlfile, emoji, backoff, requests-toolbelt, python-pptx, python-oxmsg, proto-plus, pikepdf, openpyxl, httpcore, googleapis-common-protos, deepdiff, dataclasses-json, cryptography, coloredlogs, arxiv, anyio, pycocotools, pdfminer.six, onnxruntime, httpx, grpcio-status, google-api-core, arxiv-downloader, unstructured-client, pdfplumber, unstructured, layoutparser, google-cloud-vision, effdet, unstructured-inference\n",
      "  Attempting uninstall: protobuf\n",
      "    Found existing installation: protobuf 3.20.3\n",
      "    Uninstalling protobuf-3.20.3:\n",
      "      Successfully uninstalled protobuf-3.20.3\n",
      "  Attempting uninstall: grpcio\n",
      "    Found existing installation: grpcio 1.60.1\n",
      "    Uninstalling grpcio-1.60.1:\n",
      "      Successfully uninstalled grpcio-1.60.1\n",
      "  Attempting uninstall: pycocotools\n",
      "    Found existing installation: pycocotools 2.0+nv0.8.0\n",
      "    Uninstalling pycocotools-2.0+nv0.8.0:\n",
      "      Successfully uninstalled pycocotools-2.0+nv0.8.0\n",
      "\u001b[31mERROR: pip's dependency resolver does not currently take into account all the packages that are installed. This behaviour is the source of the following dependency conflicts.\n",
      "nvidia-ammo 0.0.0 requires onnx-graphsurgeon, which is not installed.\n",
      "cudf 23.12.0 requires pandas<1.6.0dev0,>=1.3, but you have pandas 2.2.2 which is incompatible.\n",
      "cudf 23.12.0 requires protobuf<5,>=4.21, but you have protobuf 5.27.2 which is incompatible.\n",
      "cugraph 23.12.0 requires dask-cuda==23.12.*, but you have dask-cuda 24.6.0 which is incompatible.\n",
      "cugraph 23.12.0 requires rapids-dask-dependency==23.12.*, but you have rapids-dask-dependency 24.6.0 which is incompatible.\n",
      "cugraph-service-server 23.12.0 requires dask-cuda==23.12.*, but you have dask-cuda 24.6.0 which is incompatible.\n",
      "cugraph-service-server 23.12.0 requires rapids-dask-dependency==23.12.*, but you have rapids-dask-dependency 24.6.0 which is incompatible.\n",
      "cuml 23.12.0 requires dask-cuda==23.12.*, but you have dask-cuda 24.6.0 which is incompatible.\n",
      "cuml 23.12.0 requires rapids-dask-dependency==23.12.*, but you have rapids-dask-dependency 24.6.0 which is incompatible.\n",
      "cuml 23.12.0 requires treelite==3.9.1, but you have treelite 4.1.2 which is incompatible.\n",
      "dask-cudf 23.12.0 requires pandas<1.6.0dev0,>=1.3, but you have pandas 2.2.2 which is incompatible.\n",
      "dask-cudf 23.12.0 requires rapids-dask-dependency==23.12.*, but you have rapids-dask-dependency 24.6.0 which is incompatible.\n",
      "nvidia-ammo 0.0.0 requires onnxruntime~=1.16.3, but you have onnxruntime 1.18.1 which is incompatible.\n",
      "tensorflow-metadata 1.15.0 requires protobuf<4.21,>=3.20.3; python_version < \"3.11\", but you have protobuf 5.27.2 which is incompatible.\n",
      "wandb 0.16.6 requires protobuf!=4.21.0,<5,>=3.19.0; python_version > \"3.9\" and sys_platform == \"linux\", but you have protobuf 5.27.2 which is incompatible.\u001b[0m\u001b[31m\n",
      "\u001b[0mSuccessfully installed XlsxWriter-3.2.0 anyio-4.4.0 arxiv-2.1.0 arxiv-downloader-1.0.0 backoff-2.2.1 cchardet-2.1.7 coloredlogs-15.0.1 cryptography-42.0.8 dataclasses-json-0.6.7 deepdiff-7.0.1 effdet-0.4.1 emoji-2.12.1 et-xmlfile-1.1.0 feedparser-6.0.10 filetype-1.2.0 flatbuffers-24.3.25 google-api-core-2.19.1 google-cloud-vision-3.7.3 googleapis-common-protos-1.63.2 grpcio-1.64.1 grpcio-status-1.64.1 h11-0.14.0 httpcore-1.0.5 httpx-0.27.0 humanfriendly-10.0 iopath-0.1.10 jsonpath-python-1.0.6 langdetect-1.0.9 layoutparser-0.3.4 marshmallow-3.21.3 olefile-0.47 onnxruntime-1.18.1 opencv-python-4.10.0.84 openpyxl-3.1.5 ordered-set-4.1.0 pdf2image-1.17.0 pdfminer.six-20231228 pdfplumber-0.11.2 pikepdf-9.0.0 pillow-heif-0.17.0 poppler-utils-0.1.0 proto-plus-1.24.0 protobuf-5.27.2 pycocotools-2.0.8 pypandoc-1.13 pypdf-4.2.0 pypdfium2-4.30.0 pytesseract-0.3.10 python-docx-1.1.2 python-iso639-2024.4.27 python-multipart-0.0.9 python-oxmsg-0.0.1 python-pptx-0.6.23 requests-toolbelt-1.0.0 sgmllib3k-1.0.0 sniffio-1.3.1 unstructured-0.14.5 unstructured-client-0.24.0 unstructured-inference-0.7.33 unstructured.pytesseract-0.3.12 xlrd-2.0.1\n",
      "\u001b[33mWARNING: Running pip as the 'root' user can result in broken permissions and conflicting behaviour with the system package manager. It is recommended to use a virtual environment instead: https://pip.pypa.io/warnings/venv\u001b[0m\u001b[33m\n"
     ]
    },
    {
     "name": "stdout",
     "output_type": "stream",
     "text": [
      "\u001b[0m\n",
      "\u001b[1m[\u001b[0m\u001b[34;49mnotice\u001b[0m\u001b[1;39;49m]\u001b[0m\u001b[39;49m A new release of pip is available: \u001b[0m\u001b[31;49m24.0\u001b[0m\u001b[39;49m -> \u001b[0m\u001b[32;49m24.1.2\u001b[0m\n",
      "\u001b[1m[\u001b[0m\u001b[34;49mnotice\u001b[0m\u001b[1;39;49m]\u001b[0m\u001b[39;49m To update, run: \u001b[0m\u001b[32;49mpython -m pip install --upgrade pip\u001b[0m\n",
      "\n",
      "\u001b[1m[\u001b[0m\u001b[34;49mnotice\u001b[0m\u001b[1;39;49m]\u001b[0m\u001b[39;49m A new release of pip is available: \u001b[0m\u001b[31;49m24.0\u001b[0m\u001b[39;49m -> \u001b[0m\u001b[32;49m24.1.2\u001b[0m\n",
      "\u001b[1m[\u001b[0m\u001b[34;49mnotice\u001b[0m\u001b[1;39;49m]\u001b[0m\u001b[39;49m To update, run: \u001b[0m\u001b[32;49mpython -m pip install --upgrade pip\u001b[0m\n",
      "Found existing installation: opencv 4.7.0\n",
      "Uninstalling opencv-4.7.0:\n",
      "  Successfully uninstalled opencv-4.7.0\n",
      "Found existing installation: opencv-python 4.10.0.84\n",
      "Uninstalling opencv-python-4.10.0.84:\n",
      "  Successfully uninstalled opencv-python-4.10.0.84\n",
      "Found existing installation: opencv-python-headless 4.9.0.80\n",
      "Uninstalling opencv-python-headless-4.9.0.80:\n",
      "  Successfully uninstalled opencv-python-headless-4.9.0.80\n",
      "\u001b[33mWARNING: Running pip as the 'root' user can result in broken permissions and conflicting behaviour with the system package manager. It is recommended to use a virtual environment instead: https://pip.pypa.io/warnings/venv\u001b[0m\u001b[33m\n",
      "\u001b[0mLooking in indexes: https://pypi.org/simple, https://pypi.ngc.nvidia.com\n",
      "Collecting opencv-python-headless\n",
      "  Downloading opencv_python_headless-4.10.0.84-cp37-abi3-manylinux_2_17_x86_64.manylinux2014_x86_64.whl.metadata (20 kB)\n",
      "Requirement already satisfied: numpy>=1.21.2 in /usr/local/lib/python3.10/dist-packages (from opencv-python-headless) (1.24.4)\n",
      "Downloading opencv_python_headless-4.10.0.84-cp37-abi3-manylinux_2_17_x86_64.manylinux2014_x86_64.whl (49.9 MB)\n",
      "\u001b[2K   \u001b[90m━━━━━━━━━━━━━━━━━━━━━━━━━━━━━━━━━━━━━━━━\u001b[0m \u001b[32m49.9/49.9 MB\u001b[0m \u001b[31m83.9 MB/s\u001b[0m eta \u001b[36m0:00:00\u001b[0m00:01\u001b[0m:00:01\u001b[0m\n",
      "\u001b[?25hInstalling collected packages: opencv-python-headless\n",
      "\u001b[31mERROR: pip's dependency resolver does not currently take into account all the packages that are installed. This behaviour is the source of the following dependency conflicts.\n",
      "img2dataset 1.45.0 requires pyarrow<16,>=6.0.1, but you have pyarrow 16.1.0 which is incompatible.\u001b[0m\u001b[31m\n",
      "\u001b[0mSuccessfully installed opencv-python-headless-4.10.0.84\n",
      "\u001b[33mWARNING: Running pip as the 'root' user can result in broken permissions and conflicting behaviour with the system package manager. It is recommended to use a virtual environment instead: https://pip.pypa.io/warnings/venv\u001b[0m\u001b[33m\n",
      "\u001b[0m\n",
      "\u001b[1m[\u001b[0m\u001b[34;49mnotice\u001b[0m\u001b[1;39;49m]\u001b[0m\u001b[39;49m A new release of pip is available: \u001b[0m\u001b[31;49m24.0\u001b[0m\u001b[39;49m -> \u001b[0m\u001b[32;49m24.1.2\u001b[0m\n",
      "\u001b[1m[\u001b[0m\u001b[34;49mnotice\u001b[0m\u001b[1;39;49m]\u001b[0m\u001b[39;49m To update, run: \u001b[0m\u001b[32;49mpython -m pip install --upgrade pip\u001b[0m\n"
     ]
    }
   ],
   "source": [
    "! pip install -r requirements.txt\n",
    "# uninstall all versions of opencv\n",
    "! pip uninstall --yes $(pip list --format=freeze | grep opencv)\n",
    "\n",
    "# remove the stale cv2 dist-packages directory\n",
    "# (pay attention to your location and python version)\n",
    "! rm -rf /usr/local/lib/python3.10/dist-packages/cv2/\n",
    "! pip install opencv-python-headless"
   ]
  },
  {
   "cell_type": "code",
   "execution_count": 1,
   "id": "e9b60897",
   "metadata": {},
   "outputs": [],
   "source": [
    "from nemo_curator.utils.distributed_utils import get_client\n",
    "from nemo_curator.utils.file_utils import get_all_files_paths_under\n",
    "from nemo_curator.datasets import DocumentDataset\n",
    "from nemo_curator.utils.script_utils import add_distributed_args, parse_client_args\n",
    "from nemo_curator import ScoreFilter, Sequential\n",
    "from nemo_curator.utils.file_utils import get_all_files_paths_under, separate_by_metadata\n",
    "from modifiers import QuotationUnifier\n",
    "from utils import clean_and_unify, filter_txt, filter_code, filter_code_dataset, redact, dedupe, redact_pii\n",
    "from utils import filter_txt_lines, filter_code_lines\n",
    "import os\n",
    "import shutil\n",
    "import nemo_curator as nc\n",
    "\n",
    "from downloaders import download_wikipedia_sources, download_github_sources, download_pdf_sources\n",
    "\n",
    "# Arguments required for dask client \n",
    "#see nemo_curator.utils.script_utils.add_distributed_args\n",
    "class Args:\n",
    "    n_workers = os.cpu_count()\n",
    "    threads_per_worker = 1\n",
    "    protocol = 'tcp'\n",
    "    files_per_partition = 2\n",
    "    device = 'gpu' #or 'cpu'\n",
    "    scheduler_address = None\n",
    "    scheduler_file = None\n",
    "    \n",
    "args = Args()\n",
    "args.n_workers = min(args.n_workers, 2)\n",
    "\n",
    "# Initialize the Dask cluster.\n",
    "client = get_client(**parse_client_args(args))"
   ]
  },
  {
   "cell_type": "markdown",
   "id": "b1d3348e",
   "metadata": {},
   "source": [
    "# Step 2: download the data from online sources and convert to JSONL"
   ]
  },
  {
   "cell_type": "code",
   "execution_count": 2,
   "id": "ce648390",
   "metadata": {
    "scrolled": true
   },
   "outputs": [
    {
     "name": "stdout",
     "output_type": "stream",
     "text": [
      "Download directory:  /workspace/ndc_dapt_playbook/tutorials/dapt-curation/code/data/raw/wikipedia\n",
      "['https://arxiv.org/pdf/2406.03636.pdf', 'https://arxiv.org/pdf/2406.03003.pdf', 'https://arxiv.org/pdf/2406.00115.pdf', 'https://arxiv.org/pdf/2406.00602.pdf', 'https://arxiv.org/pdf/2406.03227.pdf', 'https://arxiv.org/pdf/2406.03088.pdf', 'https://arxiv.org/pdf/2406.01698.pdf', 'https://arxiv.org/pdf/2406.00858.pdf', 'https://arxiv.org/pdf/2406.00360.pdf', 'https://arxiv.org/pdf/2406.03165.pdf']\n"
     ]
    }
   ],
   "source": [
    "wikipedia_dir = download_wikipedia_sources(\"sources/wikipedia_urls.jsonl\",limit=100)\n",
    "pdf_dir = download_pdf_sources(\"sources/arxiv_urls.jsonl\")\n",
    "github_dir = download_github_sources(\"sources/github_repos.jsonl\", limit=10)"
   ]
  },
  {
   "cell_type": "markdown",
   "id": "f5317258",
   "metadata": {},
   "source": [
    "# Step 3: load the dataset"
   ]
  },
  {
   "cell_type": "code",
   "execution_count": 3,
   "id": "60862549",
   "metadata": {},
   "outputs": [
    {
     "name": "stdout",
     "output_type": "stream",
     "text": [
      "Reading the data...\n",
      "Reading 110 files\n",
      "Reading 6 files\n"
     ]
    },
    {
     "data": {
      "text/plain": [
       "15204"
      ]
     },
     "execution_count": 3,
     "metadata": {},
     "output_type": "execute_result"
    }
   ],
   "source": [
    "print(\"Reading the data...\")\n",
    "wiki_files = get_all_files_paths_under(wikipedia_dir)\n",
    "pdf_files = get_all_files_paths_under(pdf_dir)\n",
    "code_files = get_all_files_paths_under(github_dir)\n",
    "\n",
    "text_files = wiki_files + pdf_files\n",
    "\n",
    "orig_dataset_text = DocumentDataset.read_json(text_files, add_filename=True)\n",
    "orig_dataset_code = DocumentDataset.read_json(code_files, add_filename=True)\n",
    "\n",
    "len(orig_dataset_text.df) + len(orig_dataset_code.df)"
   ]
  },
  {
   "cell_type": "markdown",
   "id": "7991ce4e",
   "metadata": {},
   "source": [
    "# Step 4: Examine the file types and data sizes"
   ]
  },
  {
   "cell_type": "code",
   "execution_count": 4,
   "id": "8588d000",
   "metadata": {},
   "outputs": [
    {
     "data": {
      "image/png": "[encoded data removed]",
      "text/plain": [
       "<Figure size 1000x600 with 1 Axes>"
      ]
     },
     "metadata": {},
     "output_type": "display_data"
    }
   ],
   "source": [
    "import matplotlib.pyplot as plt\n",
    "orig_df = orig_dataset_text.df.compute()\n",
    "orig_df = orig_df.reset_index()\n",
    "\n",
    "# Create a histogram for different file types -text\n",
    "fig, ax = plt.subplots(figsize=(10, 6))\n",
    "orig_df.groupby(\"file_extension\")[\"size_in_bytes\"].sum().plot(kind=\"bar\", ax=ax)\n",
    "ax.set_xlabel(\"file_extension\")\n",
    "ax.set_ylabel(\"size_in_bytes\")\n",
    "ax.set_title(\"File Size Histogram by File Extension\")\n",
    "\n",
    "# Save the histogram to a file\n",
    "fig.savefig(\"./file_size_histogram_txt.png\", bbox_inches=\"tight\")\n",
    "# print(os.path.dirname(input_file)+'/file_size_histogram.png')\n",
    "# Display the histogram\n",
    "plt.show()"
   ]
  },
  {
   "cell_type": "code",
   "execution_count": 5,
   "id": "7b911221",
   "metadata": {},
   "outputs": [
    {
     "data": {
      "image/png": "[encoded data removed]",
      "text/plain": [
       "<Figure size 1000x600 with 1 Axes>"
      ]
     },
     "metadata": {},
     "output_type": "display_data"
    }
   ],
   "source": [
    "orig_df = orig_dataset_code.df.compute()\n",
    "orig_df = orig_df.reset_index()\n",
    "\n",
    "# Create a histogram for different file types - code\n",
    "fig, ax = plt.subplots(figsize=(10, 6))\n",
    "orig_df.groupby(\"file_extension\")[\"size_in_bytes\"].sum().plot(kind=\"bar\", ax=ax)\n",
    "ax.set_xlabel(\"file_extension\")\n",
    "ax.set_ylabel(\"size_in_bytes\")\n",
    "ax.set_title(\"File Size Histogram by File Extension\")\n",
    "\n",
    "# Save the histogram to a file\n",
    "fig.savefig(\"./file_size_histogram_code.png\", bbox_inches=\"tight\")\n",
    "# print(os.path.dirname(input_file)+'/file_size_histogram.png')\n",
    "# Display the histogram\n",
    "plt.show()"
   ]
  },
  {
   "cell_type": "markdown",
   "id": "5fd6011b",
   "metadata": {},
   "source": [
    "# Step 5: run the data curation pipeline"
   ]
  },
  {
   "cell_type": "code",
   "execution_count": 6,
   "id": "266b1044",
   "metadata": {},
   "outputs": [
    {
     "name": "stdout",
     "output_type": "stream",
     "text": [
      "Running curation pipeline on './data/raw'...\n",
      "Executing the pipeline...\n",
      "Original dataset length for text files: 110\n",
      "After dataprep: 110\n",
      "Original dataset length for code files: 15096\n",
      "After dataprep: 14849\n"
     ]
    }
   ],
   "source": [
    "print(f\"Running curation pipeline on './data/raw'...\")\n",
    "\n",
    "# Define data curation steps for text and pdf files\n",
    "curation_steps_text = Sequential(\n",
    "    [\n",
    "        dedupe,\n",
    "        filter_txt_lines,\n",
    "        filter_txt,\n",
    "        clean_and_unify,\n",
    "#         redact_pii, #Not needed for non-code files\n",
    "    ]\n",
    ")\n",
    "\n",
    "# Define data curation steps for code files\n",
    "curation_steps_code = Sequential(\n",
    "    [\n",
    "        dedupe,\n",
    "        filter_code_lines,\n",
    "        filter_code,\n",
    "        clean_and_unify,\n",
    "#         redact_pii\n",
    "    ]\n",
    ")\n",
    "\n",
    "print(\"Executing the pipeline...\")\n",
    "dataset_text = curation_steps_text(orig_dataset_text)\n",
    "dataset_text = dataset_text.persist() \n",
    "\n",
    "print(f\"Original dataset length for text files: {len(orig_dataset_text.df)}\")\n",
    "print(f\"After dataprep: {len(dataset_text.df)}\")\n",
    "\n",
    "dataset_code = curation_steps_code(orig_dataset_code)\n",
    "dataset_code = dataset_code.persist()\n",
    "\n",
    "print(f\"Original dataset length for code files: {len(orig_dataset_code.df)}\")\n",
    "print(f\"After dataprep: {len(dataset_code.df)}\")\n"
   ]
  },
  {
   "cell_type": "markdown",
   "id": "c678f0d6",
   "metadata": {},
   "source": [
    "# Step 6: save the filtered and curated data"
   ]
  },
  {
   "cell_type": "code",
   "execution_count": 6,
   "id": "1a6b95f8",
   "metadata": {},
   "outputs": [
    {
     "name": "stdout",
     "output_type": "stream",
     "text": [
      "Writing the results to disk...\n",
      "Writing to disk complete for 110 partitions\n"
     ]
    },
    {
     "name": "stderr",
     "output_type": "stream",
     "text": [
      "/usr/local/lib/python3.10/dist-packages/nemo_curator/utils/distributed_utils.py:391: UserWarning: Empty partition found\n",
      "  warnings.warn(f\"Empty partition found\")\n",
      "/usr/local/lib/python3.10/dist-packages/nemo_curator/utils/distributed_utils.py:391: UserWarning: Empty partition found\n",
      "  warnings.warn(f\"Empty partition found\")\n"
     ]
    },
    {
     "name": "stdout",
     "output_type": "stream",
     "text": [
      "Writing to disk complete for 14849 partitions\n"
     ]
    },
    {
     "name": "stderr",
     "output_type": "stream",
     "text": [
      "/usr/local/lib/python3.10/dist-packages/nemo_curator/utils/distributed_utils.py:391: UserWarning: Empty partition found\n",
      "  warnings.warn(f\"Empty partition found\")\n"
     ]
    },
    {
     "name": "stdout",
     "output_type": "stream",
     "text": [
      "Writing to disk complete for 110 partitions\n"
     ]
    },
    {
     "name": "stderr",
     "output_type": "stream",
     "text": [
      "/usr/local/lib/python3.10/dist-packages/nemo_curator/utils/distributed_utils.py:391: UserWarning: Empty partition found\n",
      "  warnings.warn(f\"Empty partition found\")\n"
     ]
    },
    {
     "name": "stdout",
     "output_type": "stream",
     "text": [
      "Writing to disk complete for 14849 partitions\n"
     ]
    }
   ],
   "source": [
    "print(\"Writing the results to disk...\")\n",
    "output_dir = \"./data/curated/\"\n",
    "\n",
    "#save filtered and cleaned datasets\n",
    "# Overwrite existing files and save all jsonl in the curated directory.\n",
    "out_path = os.path.join(output_dir, \"json\")\n",
    "if os.path.isdir(out_path):\n",
    "    shutil.rmtree(out_path)\n",
    "os.makedirs(out_path, exist_ok=True)\n",
    "dataset_text.to_json(out_path, write_to_filename=True)\n",
    "dataset_code.to_json(out_path, write_to_filename=True)\n",
    "\n",
    "# Split the dataset by file category and save curated files\n",
    "separated_data_text = separate_by_metadata(dataset_text.df,out_path, 'category').compute()\n",
    "separated_data_code = separate_by_metadata(dataset_code.df,out_path, 'category').compute()\n",
    "\n",
    "# # Overwrite existing files and save to all parquet format in the curated directory if needed \n",
    "out_path = os.path.join(output_dir, \"parquet\")\n",
    "if os.path.isdir(out_path):\n",
    "    shutil.rmtree(out_path)\n",
    "os.makedirs(out_path, exist_ok=True)\n",
    "dataset_text.to_parquet(out_path, write_to_filename=True)\n",
    "dataset_code.to_parquet(out_path, write_to_filename=True)\n",
    "\n",
    "client.close()"
   ]
  },
  {
   "cell_type": "markdown",
   "id": "5de03f71",
   "metadata": {},
   "source": [
    "# Step 7: blend datasets and shuffle"
   ]
  },
  {
   "cell_type": "code",
   "execution_count": 13,
   "id": "6dfd881b",
   "metadata": {},
   "outputs": [
    {
     "name": "stdout",
     "output_type": "stream",
     "text": [
      "Reading 3 files\n",
      "Reading 6 files\n",
      "Reading 114 files\n",
      "Reading 4 files\n",
      "Writing to disk complete for 20 partitions\n"
     ]
    }
   ],
   "source": [
    "root_path = os.path.join(output_dir+'json')\n",
    "dataset_paths = [root_path+\"/CPP\", root_path+\"/VerilogVHDL\", root_path+\"/text\", root_path+\"/Python\"]\n",
    "dataset_weights = [1.0, 4.0, 4.0, 1.0]\n",
    "target_size = 20\n",
    "output_path = output_dir+\"/data_blended\"\n",
    "if os.path.isdir(output_path):\n",
    "    shutil.rmtree(output_path)\n",
    "os.makedirs(output_path)\n",
    "# Blend the datasets\n",
    "datasets = [DocumentDataset.read_json(path) for path in dataset_paths]\n",
    "blended_dataset = nc.blend_datasets(target_size, datasets, dataset_weights)\n",
    "\n",
    "shuffle = nc.Shuffle(seed=42)\n",
    "blended_dataset = shuffle(blended_dataset)\n",
    "\n",
    "# Save the blend\n",
    "blended_dataset.to_json(output_path)"
   ]
  },
  {
   "cell_type": "markdown",
   "id": "f813ffb0",
   "metadata": {},
   "source": [
    "### We are now ready to use these curated data files for continued pre-training of LLMs¶"
   ]
  },
  {
   "cell_type": "code",
   "execution_count": null,
   "id": "dbc6af02",
   "metadata": {},
   "outputs": [],
   "source": []
  }
 ],
 "metadata": {
  "kernelspec": {
   "display_name": "Python 3 (ipykernel)",
   "language": "python",
   "name": "python3"
  },
  "language_info": {
   "codemirror_mode": {
    "name": "ipython",
    "version": 3
   },
   "file_extension": ".py",
   "mimetype": "text/x-python",
   "name": "python",
   "nbconvert_exporter": "python",
   "pygments_lexer": "ipython3",
   "version": "3.10.12"
  }
 },
 "nbformat": 4,
 "nbformat_minor": 5
}
